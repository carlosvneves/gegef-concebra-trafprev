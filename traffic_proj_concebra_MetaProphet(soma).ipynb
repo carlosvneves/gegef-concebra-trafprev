{
  "nbformat": 4,
  "nbformat_minor": 0,
  "metadata": {
    "colab": {
      "name": "traffic_proj_concebra-MetaProphet(soma).ipynb",
      "provenance": [],
      "mount_file_id": "1YjscSlPQC6hWdvcJwQDB6EvMgHR3TToA",
      "authorship_tag": "ABX9TyOsIyfkRhv0qCP2QkJ/6aon",
      "include_colab_link": true
    },
    "kernelspec": {
      "name": "python3",
      "display_name": "Python 3"
    },
    "language_info": {
      "name": "python"
    }
  },
  "cells": [
    {
      "cell_type": "markdown",
      "metadata": {
        "id": "view-in-github",
        "colab_type": "text"
      },
      "source": [
        "<a href=\"https://colab.research.google.com/github/carlosvneves/gegef-concebra-trafprev/blob/main/traffic_proj_concebra_MetaProphet(soma).ipynb\" target=\"_parent\"><img src=\"https://colab.research.google.com/assets/colab-badge.svg\" alt=\"Open In Colab\"/></a>"
      ]
    },
    {
      "cell_type": "markdown",
      "source": [
        "# (Teste) Previsão do volume de tráfego por praça de pedágio CONCEBRA -  P1"
      ],
      "metadata": {
        "id": "rTVbdUBrUlaI"
      }
    },
    {
      "cell_type": "markdown",
      "source": [
        "## Preliminares"
      ],
      "metadata": {
        "id": "X5qWx6EwU0tv"
      }
    },
    {
      "cell_type": "markdown",
      "source": [
        "### Instalação das bibliotecas necessárias"
      ],
      "metadata": {
        "id": "2dmYWGUCVBMv"
      }
    },
    {
      "cell_type": "code",
      "execution_count": 1,
      "metadata": {
        "id": "sAXfzEs-JM9t",
        "colab": {
          "base_uri": "https://localhost:8080/"
        },
        "outputId": "6137690a-e170-4a3f-9816-11ae50c6abc6"
      },
      "outputs": [
        {
          "output_type": "stream",
          "name": "stdout",
          "text": [
            "Requirement already satisfied: xlrd in /usr/local/lib/python3.7/dist-packages (1.1.0)\n",
            "\u001b[31mERROR: pip's dependency resolver does not currently take into account all the packages that are installed. This behaviour is the source of the following dependency conflicts.\n",
            "markdown 3.3.6 requires importlib-metadata>=4.4; python_version < \"3.10\", but you have importlib-metadata 2.1.2 which is incompatible.\u001b[0m\n",
            "\u001b[K     |████████████████████████████████| 9.8 MB 4.6 MB/s \n",
            "\u001b[?25h"
          ]
        }
      ],
      "source": [
        "# para o caso de executar o código no googlecolab\n",
        "#!pip install pycaret-ts-alpha\n",
        "#!pip install requests==2.23.0\n",
        "!pip install xlrd\n",
        "!pip install -q -U watermark\n",
        "!pip install -q plotly\n",
        "!pip install -q -U statsmodels\n",
        "!pip install -q fbprophet\n",
        "!pip install -q convertdate"
      ]
    },
    {
      "cell_type": "markdown",
      "source": [
        "### Importação das bibliotecas"
      ],
      "metadata": {
        "id": "92dsm0OKU7f_"
      }
    },
    {
      "cell_type": "code",
      "source": [
        "# As novas versões do Pandas e Matplotlib trazem diversas mensagens de aviso ao desenvolvedor. Vamos desativar isso.\n",
        "import sys\n",
        "import warnings\n",
        "import matplotlib.cbook\n",
        "if not sys.warnoptions:\n",
        "    warnings.simplefilter(\"ignore\")\n",
        "warnings.simplefilter(action='ignore', category=FutureWarning)\n",
        "warnings.filterwarnings(\"ignore\", category=FutureWarning)\n",
        "warnings.filterwarnings(\"ignore\", category=matplotlib.cbook.mplDeprecation)\n",
        "\n",
        "# Imports para manipulação de dados\n",
        "import numpy as np\n",
        "import pandas as pd\n",
        "import itertools\n",
        "from pandas import Series\n",
        "\n",
        "# Imports para visualização de dados\n",
        "import matplotlib.pyplot as plt\n",
        "import matplotlib as m\n",
        "import seaborn as sns\n",
        "import plotly as py\n",
        "import plotly.express as px\n",
        "import plotly.graph_objs as go \n",
        "from plotly.offline import download_plotlyjs, init_notebook_mode, plot, iplot\n",
        "\n",
        "# Imports para modelagem preditiva\n",
        "import statsmodels\n",
        "import statsmodels.api as sm\n",
        "import statsmodels.tsa.api as smt\n",
        "import statsmodels.stats as sms\n",
        "import scipy\n",
        "import scipy.stats as scs\n",
        "from statsmodels.graphics import tsaplots\n",
        "from statsmodels.tsa.seasonal import seasonal_decompose\n",
        "from statsmodels.tsa.stattools import adfuller\n",
        "from statsmodels.stats.stattools import jarque_bera\n",
        "import fbprophet\n",
        "from fbprophet import Prophet\n",
        "\n",
        "# Imports para métricas e performance do modelo\n",
        "import math\n",
        "from math import sqrt \n",
        "import sklearn\n",
        "from sklearn.metrics import mean_squared_error \n",
        "\n",
        "# Imports para formatação dos gráficos\n",
        "m.rcParams['axes.labelsize'] = 14\n",
        "m.rcParams['xtick.labelsize'] = 12\n",
        "m.rcParams['ytick.labelsize'] = 12\n",
        "m.rcParams['text.color'] = 'k'\n",
        "from matplotlib.pylab import rcParams \n",
        "rcParams['figure.figsize'] = 15,7\n",
        "matplotlib.style.use('ggplot')\n",
        "%matplotlib inline"
      ],
      "metadata": {
        "id": "FLPL6pqoxi-7"
      },
      "execution_count": 2,
      "outputs": []
    },
    {
      "cell_type": "code",
      "source": [
        "# Versões dos pacotes usados neste jupyter notebook\n",
        "%reload_ext watermark\n",
        "%watermark -a \"GEGEF/SUROD/ANTT - Dezembro de 2021\" --iversions"
      ],
      "metadata": {
        "colab": {
          "base_uri": "https://localhost:8080/"
        },
        "id": "uIrwnA5zx2Cl",
        "outputId": "b1cf597d-f100-4a7d-ab1b-2e20a9ae1c58"
      },
      "execution_count": 3,
      "outputs": [
        {
          "output_type": "stream",
          "name": "stdout",
          "text": [
            "Author: GEGEF/SUROD/ANTT - Dezembro de 2021\n",
            "\n",
            "numpy      : 1.19.5\n",
            "matplotlib : 3.2.2\n",
            "sys        : 3.7.12 (default, Sep 10 2021, 00:21:48) \n",
            "[GCC 7.5.0]\n",
            "IPython    : 5.5.0\n",
            "plotly     : 4.4.1\n",
            "statsmodels: 0.13.1\n",
            "sklearn    : 0.0\n",
            "fbprophet  : 0.7.1\n",
            "scipy      : 1.4.1\n",
            "pandas     : 1.1.5\n",
            "seaborn    : 0.11.2\n",
            "\n"
          ]
        }
      ]
    },
    {
      "cell_type": "markdown",
      "source": [
        "### Funções auxiliares"
      ],
      "metadata": {
        "id": "zJ47m69i1Wn5"
      }
    },
    {
      "cell_type": "code",
      "source": [
        "def performance(y_true, y_pred): \n",
        "    mse = ((y_pred - y_true) ** 2).mean()\n",
        "    mape = np.mean(np.abs((y_true - y_pred) / y_true)) * 100\n",
        "    return( print('MSE das previsões é {}'.format(round(mse, 2))+\n",
        "                  '\\nRMSE das previsões é {}'.format(round(np.sqrt(mse), 2))+\n",
        "                  '\\nMAPE das previsões é {}'.format(round(mape, 2))))"
      ],
      "metadata": {
        "id": "41mXyrA41V3d"
      },
      "execution_count": 4,
      "outputs": []
    },
    {
      "cell_type": "markdown",
      "source": [
        "### Diretório da base de dados"
      ],
      "metadata": {
        "id": "qA9Ih9IjVLze"
      }
    },
    {
      "cell_type": "code",
      "source": [
        "# muda o diretório de trabalho\n",
        "%cd /content/drive/MyDrive/Colab Notebooks/GEGEF_concebra"
      ],
      "metadata": {
        "colab": {
          "base_uri": "https://localhost:8080/"
        },
        "id": "qjLcH4I65QiA",
        "outputId": "607e12cf-1d0b-40fc-9e10-36e3631bd65c"
      },
      "execution_count": 5,
      "outputs": [
        {
          "output_type": "stream",
          "name": "stdout",
          "text": [
            "/content/drive/MyDrive/Colab Notebooks/GEGEF_concebra\n"
          ]
        }
      ]
    },
    {
      "cell_type": "markdown",
      "source": [
        "### Lê os dados relativos à P1 e seleciona a série para a qual será realizada a previsão (tratamento final dos dados)"
      ],
      "metadata": {
        "id": "6j217jLOVQfG"
      }
    },
    {
      "cell_type": "code",
      "source": [
        "#@title Escolha a Praça de Pedágio para Análise:\n",
        "\n",
        "\n",
        "p = \"P11\" #@param [\"P1\", \"P2\", \"P3\", \"P4\", \"P5\", \"P6\", \"P7\", \"P8\", \"P9\",\"P10\", \"P11\"] \n",
        "\n",
        "print(p)"
      ],
      "metadata": {
        "colab": {
          "base_uri": "https://localhost:8080/"
        },
        "cellView": "form",
        "id": "XgaT452w7_nd",
        "outputId": "5de5ac3b-22bb-402b-e916-dc730ba939d9"
      },
      "execution_count": 226,
      "outputs": [
        {
          "output_type": "stream",
          "name": "stdout",
          "text": [
            "P11\n"
          ]
        }
      ]
    },
    {
      "cell_type": "code",
      "source": [
        "data = pd.read_excel('TráfegoCONCEBRA-Adj.xlsx', sheet_name=p)"
      ],
      "metadata": {
        "id": "BB9XjCW-5dwv"
      },
      "execution_count": 227,
      "outputs": []
    },
    {
      "cell_type": "code",
      "source": [
        "data.tail()"
      ],
      "metadata": {
        "colab": {
          "base_uri": "https://localhost:8080/",
          "height": 409
        },
        "id": "BSWJUdXM5nU-",
        "outputId": "9151a7c6-7be1-4328-930f-f6dbdb354080"
      },
      "execution_count": 228,
      "outputs": [
        {
          "output_type": "execute_result",
          "data": {
            "text/html": [
              "\n",
              "  <div id=\"df-4063c37f-5756-4e89-b698-ca3d8fcc1d29\">\n",
              "    <div class=\"colab-df-container\">\n",
              "      <div>\n",
              "<style scoped>\n",
              "    .dataframe tbody tr th:only-of-type {\n",
              "        vertical-align: middle;\n",
              "    }\n",
              "\n",
              "    .dataframe tbody tr th {\n",
              "        vertical-align: top;\n",
              "    }\n",
              "\n",
              "    .dataframe thead th {\n",
              "        text-align: right;\n",
              "    }\n",
              "</style>\n",
              "<table border=\"1\" class=\"dataframe\">\n",
              "  <thead>\n",
              "    <tr style=\"text-align: right;\">\n",
              "      <th></th>\n",
              "      <th>date</th>\n",
              "      <th>Tipo de Veículo</th>\n",
              "      <th>Veículo de Passeio 2 eixos</th>\n",
              "      <th>Veículo Comercial 2 eixos</th>\n",
              "      <th>Veículo de Passeio 3 eixos</th>\n",
              "      <th>Veículo Comercial 3 eixos</th>\n",
              "      <th>Veículo de Passeio 4 eixos</th>\n",
              "      <th>Veículo Comercial 4 eixos</th>\n",
              "      <th>Veículo Comercial 5 eixos</th>\n",
              "      <th>Veículo Comercial 6 eixos</th>\n",
              "      <th>Motos</th>\n",
              "      <th>Veículo Comercial 7 eixos</th>\n",
              "      <th>Veículo Comercial 8 eixos</th>\n",
              "      <th>Veículo Comercial 9 eixos</th>\n",
              "      <th>Veículo Comercial 10 eixos</th>\n",
              "      <th>Veículo Comercial Acima de  10 eixos</th>\n",
              "      <th>Soma das categorias</th>\n",
              "      <th>Qtde de eixos suspensos</th>\n",
              "    </tr>\n",
              "  </thead>\n",
              "  <tbody>\n",
              "    <tr>\n",
              "      <th>43</th>\n",
              "      <td>2020-10</td>\n",
              "      <td>31.0</td>\n",
              "      <td>46257.0</td>\n",
              "      <td>5272.0</td>\n",
              "      <td>633.0</td>\n",
              "      <td>4547.0</td>\n",
              "      <td>33.0</td>\n",
              "      <td>3131.0</td>\n",
              "      <td>1998.0</td>\n",
              "      <td>4451.0</td>\n",
              "      <td>818.0</td>\n",
              "      <td>2828.0</td>\n",
              "      <td>85.0</td>\n",
              "      <td>3897.0</td>\n",
              "      <td>0</td>\n",
              "      <td>10</td>\n",
              "      <td>73991.0</td>\n",
              "      <td>13342.0</td>\n",
              "    </tr>\n",
              "    <tr>\n",
              "      <th>44</th>\n",
              "      <td>2020-11</td>\n",
              "      <td>30.0</td>\n",
              "      <td>46589.0</td>\n",
              "      <td>5171.0</td>\n",
              "      <td>569.0</td>\n",
              "      <td>4090.0</td>\n",
              "      <td>36.0</td>\n",
              "      <td>3024.0</td>\n",
              "      <td>1944.0</td>\n",
              "      <td>4055.0</td>\n",
              "      <td>955.0</td>\n",
              "      <td>2723.0</td>\n",
              "      <td>134.0</td>\n",
              "      <td>4722.0</td>\n",
              "      <td>0</td>\n",
              "      <td>8</td>\n",
              "      <td>74050.0</td>\n",
              "      <td>12299.0</td>\n",
              "    </tr>\n",
              "    <tr>\n",
              "      <th>45</th>\n",
              "      <td>2020-12</td>\n",
              "      <td>31.0</td>\n",
              "      <td>51867.0</td>\n",
              "      <td>5290.0</td>\n",
              "      <td>615.0</td>\n",
              "      <td>3920.0</td>\n",
              "      <td>39.0</td>\n",
              "      <td>2845.0</td>\n",
              "      <td>1869.0</td>\n",
              "      <td>3724.0</td>\n",
              "      <td>826.0</td>\n",
              "      <td>2452.0</td>\n",
              "      <td>85.0</td>\n",
              "      <td>3402.0</td>\n",
              "      <td>0</td>\n",
              "      <td>11</td>\n",
              "      <td>76976.0</td>\n",
              "      <td>11184.0</td>\n",
              "    </tr>\n",
              "    <tr>\n",
              "      <th>46</th>\n",
              "      <td>2021-01</td>\n",
              "      <td>31.0</td>\n",
              "      <td>45397.0</td>\n",
              "      <td>4809.0</td>\n",
              "      <td>526.0</td>\n",
              "      <td>3978.0</td>\n",
              "      <td>36.0</td>\n",
              "      <td>2758.0</td>\n",
              "      <td>1828.0</td>\n",
              "      <td>4315.0</td>\n",
              "      <td>865.0</td>\n",
              "      <td>2638.0</td>\n",
              "      <td>72.0</td>\n",
              "      <td>4453.0</td>\n",
              "      <td>0</td>\n",
              "      <td>5</td>\n",
              "      <td>71711.0</td>\n",
              "      <td>12004.0</td>\n",
              "    </tr>\n",
              "    <tr>\n",
              "      <th>47</th>\n",
              "      <td>2021-02</td>\n",
              "      <td>28.0</td>\n",
              "      <td>40267.0</td>\n",
              "      <td>4798.0</td>\n",
              "      <td>446.0</td>\n",
              "      <td>3973.0</td>\n",
              "      <td>24.0</td>\n",
              "      <td>2996.0</td>\n",
              "      <td>1930.0</td>\n",
              "      <td>4024.0</td>\n",
              "      <td>718.0</td>\n",
              "      <td>2264.0</td>\n",
              "      <td>58.0</td>\n",
              "      <td>3522.0</td>\n",
              "      <td>0</td>\n",
              "      <td>5</td>\n",
              "      <td>65053.0</td>\n",
              "      <td>10880.0</td>\n",
              "    </tr>\n",
              "  </tbody>\n",
              "</table>\n",
              "</div>\n",
              "      <button class=\"colab-df-convert\" onclick=\"convertToInteractive('df-4063c37f-5756-4e89-b698-ca3d8fcc1d29')\"\n",
              "              title=\"Convert this dataframe to an interactive table.\"\n",
              "              style=\"display:none;\">\n",
              "        \n",
              "  <svg xmlns=\"http://www.w3.org/2000/svg\" height=\"24px\"viewBox=\"0 0 24 24\"\n",
              "       width=\"24px\">\n",
              "    <path d=\"M0 0h24v24H0V0z\" fill=\"none\"/>\n",
              "    <path d=\"M18.56 5.44l.94 2.06.94-2.06 2.06-.94-2.06-.94-.94-2.06-.94 2.06-2.06.94zm-11 1L8.5 8.5l.94-2.06 2.06-.94-2.06-.94L8.5 2.5l-.94 2.06-2.06.94zm10 10l.94 2.06.94-2.06 2.06-.94-2.06-.94-.94-2.06-.94 2.06-2.06.94z\"/><path d=\"M17.41 7.96l-1.37-1.37c-.4-.4-.92-.59-1.43-.59-.52 0-1.04.2-1.43.59L10.3 9.45l-7.72 7.72c-.78.78-.78 2.05 0 2.83L4 21.41c.39.39.9.59 1.41.59.51 0 1.02-.2 1.41-.59l7.78-7.78 2.81-2.81c.8-.78.8-2.07 0-2.86zM5.41 20L4 18.59l7.72-7.72 1.47 1.35L5.41 20z\"/>\n",
              "  </svg>\n",
              "      </button>\n",
              "      \n",
              "  <style>\n",
              "    .colab-df-container {\n",
              "      display:flex;\n",
              "      flex-wrap:wrap;\n",
              "      gap: 12px;\n",
              "    }\n",
              "\n",
              "    .colab-df-convert {\n",
              "      background-color: #E8F0FE;\n",
              "      border: none;\n",
              "      border-radius: 50%;\n",
              "      cursor: pointer;\n",
              "      display: none;\n",
              "      fill: #1967D2;\n",
              "      height: 32px;\n",
              "      padding: 0 0 0 0;\n",
              "      width: 32px;\n",
              "    }\n",
              "\n",
              "    .colab-df-convert:hover {\n",
              "      background-color: #E2EBFA;\n",
              "      box-shadow: 0px 1px 2px rgba(60, 64, 67, 0.3), 0px 1px 3px 1px rgba(60, 64, 67, 0.15);\n",
              "      fill: #174EA6;\n",
              "    }\n",
              "\n",
              "    [theme=dark] .colab-df-convert {\n",
              "      background-color: #3B4455;\n",
              "      fill: #D2E3FC;\n",
              "    }\n",
              "\n",
              "    [theme=dark] .colab-df-convert:hover {\n",
              "      background-color: #434B5C;\n",
              "      box-shadow: 0px 1px 3px 1px rgba(0, 0, 0, 0.15);\n",
              "      filter: drop-shadow(0px 1px 2px rgba(0, 0, 0, 0.3));\n",
              "      fill: #FFFFFF;\n",
              "    }\n",
              "  </style>\n",
              "\n",
              "      <script>\n",
              "        const buttonEl =\n",
              "          document.querySelector('#df-4063c37f-5756-4e89-b698-ca3d8fcc1d29 button.colab-df-convert');\n",
              "        buttonEl.style.display =\n",
              "          google.colab.kernel.accessAllowed ? 'block' : 'none';\n",
              "\n",
              "        async function convertToInteractive(key) {\n",
              "          const element = document.querySelector('#df-4063c37f-5756-4e89-b698-ca3d8fcc1d29');\n",
              "          const dataTable =\n",
              "            await google.colab.kernel.invokeFunction('convertToInteractive',\n",
              "                                                     [key], {});\n",
              "          if (!dataTable) return;\n",
              "\n",
              "          const docLinkHtml = 'Like what you see? Visit the ' +\n",
              "            '<a target=\"_blank\" href=https://colab.research.google.com/notebooks/data_table.ipynb>data table notebook</a>'\n",
              "            + ' to learn more about interactive tables.';\n",
              "          element.innerHTML = '';\n",
              "          dataTable['output_type'] = 'display_data';\n",
              "          await google.colab.output.renderOutput(dataTable, element);\n",
              "          const docLink = document.createElement('div');\n",
              "          docLink.innerHTML = docLinkHtml;\n",
              "          element.appendChild(docLink);\n",
              "        }\n",
              "      </script>\n",
              "    </div>\n",
              "  </div>\n",
              "  "
            ],
            "text/plain": [
              "       date  Tipo de Veículo  ...  Soma das categorias  Qtde de eixos suspensos\n",
              "43  2020-10             31.0  ...              73991.0                  13342.0\n",
              "44  2020-11             30.0  ...              74050.0                  12299.0\n",
              "45  2020-12             31.0  ...              76976.0                  11184.0\n",
              "46  2021-01             31.0  ...              71711.0                  12004.0\n",
              "47  2021-02             28.0  ...              65053.0                  10880.0\n",
              "\n",
              "[5 rows x 18 columns]"
            ]
          },
          "metadata": {},
          "execution_count": 228
        }
      ]
    },
    {
      "cell_type": "markdown",
      "source": [
        ""
      ],
      "metadata": {
        "id": "ywkKwKvq2xit"
      }
    },
    {
      "cell_type": "code",
      "source": [
        "#data.set_index('date', inplace = True)\n",
        "data.info()"
      ],
      "metadata": {
        "colab": {
          "base_uri": "https://localhost:8080/"
        },
        "id": "GBk1hWiRyrBb",
        "outputId": "96bf23cb-f396-4404-d562-b1be2e82ee87"
      },
      "execution_count": 229,
      "outputs": [
        {
          "output_type": "stream",
          "name": "stdout",
          "text": [
            "<class 'pandas.core.frame.DataFrame'>\n",
            "RangeIndex: 48 entries, 0 to 47\n",
            "Data columns (total 18 columns):\n",
            " #   Column                                 Non-Null Count  Dtype  \n",
            "---  ------                                 --------------  -----  \n",
            " 0   date                                   48 non-null     object \n",
            " 1   Tipo de Veículo                        45 non-null     float64\n",
            " 2   Veículo de Passeio 2 eixos             48 non-null     float64\n",
            " 3   Veículo Comercial 2 eixos              48 non-null     float64\n",
            " 4   Veículo de Passeio 3 eixos             48 non-null     float64\n",
            " 5   Veículo Comercial 3 eixos              48 non-null     float64\n",
            " 6   Veículo de Passeio 4 eixos             48 non-null     float64\n",
            " 7   Veículo Comercial 4 eixos              48 non-null     float64\n",
            " 8   Veículo Comercial 5 eixos              48 non-null     float64\n",
            " 9   Veículo Comercial 6 eixos              48 non-null     float64\n",
            " 10  Motos                                  48 non-null     float64\n",
            " 11  Veículo Comercial 7 eixos              48 non-null     float64\n",
            " 12  Veículo Comercial 8 eixos              48 non-null     float64\n",
            " 13  Veículo Comercial 9 eixos              48 non-null     float64\n",
            " 14  Veículo Comercial 10 eixos             48 non-null     int64  \n",
            " 15  Veículo Comercial Acima de  10 eixos   48 non-null     int64  \n",
            " 16  Soma das categorias                    48 non-null     float64\n",
            " 17  Qtde de eixos suspensos                48 non-null     float64\n",
            "dtypes: float64(15), int64(2), object(1)\n",
            "memory usage: 6.9+ KB\n"
          ]
        }
      ]
    },
    {
      "cell_type": "code",
      "source": [
        "data.describe()"
      ],
      "metadata": {
        "colab": {
          "base_uri": "https://localhost:8080/",
          "height": 416
        },
        "id": "-nEg5A_x8tjb",
        "outputId": "1110ccf9-cc4b-4f66-ae86-07c2219e1cdd"
      },
      "execution_count": 230,
      "outputs": [
        {
          "output_type": "execute_result",
          "data": {
            "text/html": [
              "\n",
              "  <div id=\"df-334bc098-c938-4e9f-a589-ef274d79baa2\">\n",
              "    <div class=\"colab-df-container\">\n",
              "      <div>\n",
              "<style scoped>\n",
              "    .dataframe tbody tr th:only-of-type {\n",
              "        vertical-align: middle;\n",
              "    }\n",
              "\n",
              "    .dataframe tbody tr th {\n",
              "        vertical-align: top;\n",
              "    }\n",
              "\n",
              "    .dataframe thead th {\n",
              "        text-align: right;\n",
              "    }\n",
              "</style>\n",
              "<table border=\"1\" class=\"dataframe\">\n",
              "  <thead>\n",
              "    <tr style=\"text-align: right;\">\n",
              "      <th></th>\n",
              "      <th>Tipo de Veículo</th>\n",
              "      <th>Veículo de Passeio 2 eixos</th>\n",
              "      <th>Veículo Comercial 2 eixos</th>\n",
              "      <th>Veículo de Passeio 3 eixos</th>\n",
              "      <th>Veículo Comercial 3 eixos</th>\n",
              "      <th>Veículo de Passeio 4 eixos</th>\n",
              "      <th>Veículo Comercial 4 eixos</th>\n",
              "      <th>Veículo Comercial 5 eixos</th>\n",
              "      <th>Veículo Comercial 6 eixos</th>\n",
              "      <th>Motos</th>\n",
              "      <th>Veículo Comercial 7 eixos</th>\n",
              "      <th>Veículo Comercial 8 eixos</th>\n",
              "      <th>Veículo Comercial 9 eixos</th>\n",
              "      <th>Veículo Comercial 10 eixos</th>\n",
              "      <th>Veículo Comercial Acima de  10 eixos</th>\n",
              "      <th>Soma das categorias</th>\n",
              "      <th>Qtde de eixos suspensos</th>\n",
              "    </tr>\n",
              "  </thead>\n",
              "  <tbody>\n",
              "    <tr>\n",
              "      <th>count</th>\n",
              "      <td>45.00000</td>\n",
              "      <td>48.000000</td>\n",
              "      <td>48.000000</td>\n",
              "      <td>48.000000</td>\n",
              "      <td>48.000000</td>\n",
              "      <td>48.000000</td>\n",
              "      <td>48.000000</td>\n",
              "      <td>48.000000</td>\n",
              "      <td>48.000000</td>\n",
              "      <td>48.000000</td>\n",
              "      <td>48.000000</td>\n",
              "      <td>48.000000</td>\n",
              "      <td>48.000000</td>\n",
              "      <td>48.0</td>\n",
              "      <td>48.000000</td>\n",
              "      <td>48.000000</td>\n",
              "      <td>48.000000</td>\n",
              "    </tr>\n",
              "    <tr>\n",
              "      <th>mean</th>\n",
              "      <td>30.40000</td>\n",
              "      <td>42164.688172</td>\n",
              "      <td>4387.065188</td>\n",
              "      <td>455.105511</td>\n",
              "      <td>3566.034274</td>\n",
              "      <td>39.074597</td>\n",
              "      <td>2570.150538</td>\n",
              "      <td>1536.493952</td>\n",
              "      <td>2605.338710</td>\n",
              "      <td>997.185484</td>\n",
              "      <td>1883.818548</td>\n",
              "      <td>40.746640</td>\n",
              "      <td>1921.518817</td>\n",
              "      <td>0.0</td>\n",
              "      <td>1.541667</td>\n",
              "      <td>62197.262097</td>\n",
              "      <td>8763.342058</td>\n",
              "    </tr>\n",
              "    <tr>\n",
              "      <th>std</th>\n",
              "      <td>0.83666</td>\n",
              "      <td>3940.502448</td>\n",
              "      <td>438.150118</td>\n",
              "      <td>81.775680</td>\n",
              "      <td>488.506585</td>\n",
              "      <td>12.000891</td>\n",
              "      <td>516.479511</td>\n",
              "      <td>376.220944</td>\n",
              "      <td>794.071799</td>\n",
              "      <td>114.885231</td>\n",
              "      <td>585.722974</td>\n",
              "      <td>34.690348</td>\n",
              "      <td>1051.967935</td>\n",
              "      <td>0.0</td>\n",
              "      <td>2.517668</td>\n",
              "      <td>6633.692792</td>\n",
              "      <td>2269.932450</td>\n",
              "    </tr>\n",
              "    <tr>\n",
              "      <th>min</th>\n",
              "      <td>28.00000</td>\n",
              "      <td>31201.000000</td>\n",
              "      <td>3408.000000</td>\n",
              "      <td>312.000000</td>\n",
              "      <td>2640.000000</td>\n",
              "      <td>14.000000</td>\n",
              "      <td>1530.000000</td>\n",
              "      <td>787.000000</td>\n",
              "      <td>1441.000000</td>\n",
              "      <td>718.000000</td>\n",
              "      <td>806.000000</td>\n",
              "      <td>12.000000</td>\n",
              "      <td>674.903226</td>\n",
              "      <td>0.0</td>\n",
              "      <td>0.000000</td>\n",
              "      <td>49010.000000</td>\n",
              "      <td>5168.000000</td>\n",
              "    </tr>\n",
              "    <tr>\n",
              "      <th>25%</th>\n",
              "      <td>30.00000</td>\n",
              "      <td>38506.500000</td>\n",
              "      <td>4066.250000</td>\n",
              "      <td>396.500000</td>\n",
              "      <td>3193.500000</td>\n",
              "      <td>31.500000</td>\n",
              "      <td>2202.250000</td>\n",
              "      <td>1308.750000</td>\n",
              "      <td>2032.250000</td>\n",
              "      <td>920.250000</td>\n",
              "      <td>1441.000000</td>\n",
              "      <td>17.000000</td>\n",
              "      <td>1194.250000</td>\n",
              "      <td>0.0</td>\n",
              "      <td>0.000000</td>\n",
              "      <td>56803.750000</td>\n",
              "      <td>7033.500000</td>\n",
              "    </tr>\n",
              "    <tr>\n",
              "      <th>50%</th>\n",
              "      <td>31.00000</td>\n",
              "      <td>42667.500000</td>\n",
              "      <td>4346.500000</td>\n",
              "      <td>443.000000</td>\n",
              "      <td>3522.000000</td>\n",
              "      <td>38.500000</td>\n",
              "      <td>2491.000000</td>\n",
              "      <td>1481.500000</td>\n",
              "      <td>2378.000000</td>\n",
              "      <td>1006.000000</td>\n",
              "      <td>1747.500000</td>\n",
              "      <td>27.000000</td>\n",
              "      <td>1537.000000</td>\n",
              "      <td>0.0</td>\n",
              "      <td>1.000000</td>\n",
              "      <td>62279.000000</td>\n",
              "      <td>8571.000000</td>\n",
              "    </tr>\n",
              "    <tr>\n",
              "      <th>75%</th>\n",
              "      <td>31.00000</td>\n",
              "      <td>44387.250000</td>\n",
              "      <td>4781.500000</td>\n",
              "      <td>489.250000</td>\n",
              "      <td>3947.500000</td>\n",
              "      <td>48.250000</td>\n",
              "      <td>2974.000000</td>\n",
              "      <td>1870.250000</td>\n",
              "      <td>2995.750000</td>\n",
              "      <td>1086.500000</td>\n",
              "      <td>2324.000000</td>\n",
              "      <td>43.500000</td>\n",
              "      <td>2522.500000</td>\n",
              "      <td>0.0</td>\n",
              "      <td>2.000000</td>\n",
              "      <td>65986.750000</td>\n",
              "      <td>10530.250000</td>\n",
              "    </tr>\n",
              "    <tr>\n",
              "      <th>max</th>\n",
              "      <td>31.00000</td>\n",
              "      <td>51867.000000</td>\n",
              "      <td>5290.000000</td>\n",
              "      <td>692.000000</td>\n",
              "      <td>4580.000000</td>\n",
              "      <td>66.000000</td>\n",
              "      <td>3665.000000</td>\n",
              "      <td>2257.000000</td>\n",
              "      <td>4451.000000</td>\n",
              "      <td>1312.000000</td>\n",
              "      <td>3166.000000</td>\n",
              "      <td>153.000000</td>\n",
              "      <td>4722.000000</td>\n",
              "      <td>0.0</td>\n",
              "      <td>11.000000</td>\n",
              "      <td>76976.000000</td>\n",
              "      <td>13655.000000</td>\n",
              "    </tr>\n",
              "  </tbody>\n",
              "</table>\n",
              "</div>\n",
              "      <button class=\"colab-df-convert\" onclick=\"convertToInteractive('df-334bc098-c938-4e9f-a589-ef274d79baa2')\"\n",
              "              title=\"Convert this dataframe to an interactive table.\"\n",
              "              style=\"display:none;\">\n",
              "        \n",
              "  <svg xmlns=\"http://www.w3.org/2000/svg\" height=\"24px\"viewBox=\"0 0 24 24\"\n",
              "       width=\"24px\">\n",
              "    <path d=\"M0 0h24v24H0V0z\" fill=\"none\"/>\n",
              "    <path d=\"M18.56 5.44l.94 2.06.94-2.06 2.06-.94-2.06-.94-.94-2.06-.94 2.06-2.06.94zm-11 1L8.5 8.5l.94-2.06 2.06-.94-2.06-.94L8.5 2.5l-.94 2.06-2.06.94zm10 10l.94 2.06.94-2.06 2.06-.94-2.06-.94-.94-2.06-.94 2.06-2.06.94z\"/><path d=\"M17.41 7.96l-1.37-1.37c-.4-.4-.92-.59-1.43-.59-.52 0-1.04.2-1.43.59L10.3 9.45l-7.72 7.72c-.78.78-.78 2.05 0 2.83L4 21.41c.39.39.9.59 1.41.59.51 0 1.02-.2 1.41-.59l7.78-7.78 2.81-2.81c.8-.78.8-2.07 0-2.86zM5.41 20L4 18.59l7.72-7.72 1.47 1.35L5.41 20z\"/>\n",
              "  </svg>\n",
              "      </button>\n",
              "      \n",
              "  <style>\n",
              "    .colab-df-container {\n",
              "      display:flex;\n",
              "      flex-wrap:wrap;\n",
              "      gap: 12px;\n",
              "    }\n",
              "\n",
              "    .colab-df-convert {\n",
              "      background-color: #E8F0FE;\n",
              "      border: none;\n",
              "      border-radius: 50%;\n",
              "      cursor: pointer;\n",
              "      display: none;\n",
              "      fill: #1967D2;\n",
              "      height: 32px;\n",
              "      padding: 0 0 0 0;\n",
              "      width: 32px;\n",
              "    }\n",
              "\n",
              "    .colab-df-convert:hover {\n",
              "      background-color: #E2EBFA;\n",
              "      box-shadow: 0px 1px 2px rgba(60, 64, 67, 0.3), 0px 1px 3px 1px rgba(60, 64, 67, 0.15);\n",
              "      fill: #174EA6;\n",
              "    }\n",
              "\n",
              "    [theme=dark] .colab-df-convert {\n",
              "      background-color: #3B4455;\n",
              "      fill: #D2E3FC;\n",
              "    }\n",
              "\n",
              "    [theme=dark] .colab-df-convert:hover {\n",
              "      background-color: #434B5C;\n",
              "      box-shadow: 0px 1px 3px 1px rgba(0, 0, 0, 0.15);\n",
              "      filter: drop-shadow(0px 1px 2px rgba(0, 0, 0, 0.3));\n",
              "      fill: #FFFFFF;\n",
              "    }\n",
              "  </style>\n",
              "\n",
              "      <script>\n",
              "        const buttonEl =\n",
              "          document.querySelector('#df-334bc098-c938-4e9f-a589-ef274d79baa2 button.colab-df-convert');\n",
              "        buttonEl.style.display =\n",
              "          google.colab.kernel.accessAllowed ? 'block' : 'none';\n",
              "\n",
              "        async function convertToInteractive(key) {\n",
              "          const element = document.querySelector('#df-334bc098-c938-4e9f-a589-ef274d79baa2');\n",
              "          const dataTable =\n",
              "            await google.colab.kernel.invokeFunction('convertToInteractive',\n",
              "                                                     [key], {});\n",
              "          if (!dataTable) return;\n",
              "\n",
              "          const docLinkHtml = 'Like what you see? Visit the ' +\n",
              "            '<a target=\"_blank\" href=https://colab.research.google.com/notebooks/data_table.ipynb>data table notebook</a>'\n",
              "            + ' to learn more about interactive tables.';\n",
              "          element.innerHTML = '';\n",
              "          dataTable['output_type'] = 'display_data';\n",
              "          await google.colab.output.renderOutput(dataTable, element);\n",
              "          const docLink = document.createElement('div');\n",
              "          docLink.innerHTML = docLinkHtml;\n",
              "          element.appendChild(docLink);\n",
              "        }\n",
              "      </script>\n",
              "    </div>\n",
              "  </div>\n",
              "  "
            ],
            "text/plain": [
              "       Tipo de Veículo  ...  Qtde de eixos suspensos\n",
              "count         45.00000  ...                48.000000\n",
              "mean          30.40000  ...              8763.342058\n",
              "std            0.83666  ...              2269.932450\n",
              "min           28.00000  ...              5168.000000\n",
              "25%           30.00000  ...              7033.500000\n",
              "50%           31.00000  ...              8571.000000\n",
              "75%           31.00000  ...             10530.250000\n",
              "max           31.00000  ...             13655.000000\n",
              "\n",
              "[8 rows x 17 columns]"
            ]
          },
          "metadata": {},
          "execution_count": 230
        }
      ]
    },
    {
      "cell_type": "markdown",
      "source": [
        "### Prepara os dados para a previsão via Meta - Prophet"
      ],
      "metadata": {
        "id": "pmahb4K45RBW"
      }
    },
    {
      "cell_type": "code",
      "source": [
        "# Agregando os dados da praça por categoria \n",
        "ts_SumP1 = pd.DataFrame(data[['date','Soma das categorias']]) # selecting the needed columns\n",
        "ts_SumP1['date'] = ts_SumP1['date'].astype('datetime64')\n",
        "ts_SumP1.info()"
      ],
      "metadata": {
        "colab": {
          "base_uri": "https://localhost:8080/"
        },
        "id": "ihpqfwp-yh9y",
        "outputId": "fa5942eb-5544-4834-a339-e1d7324857c6"
      },
      "execution_count": 231,
      "outputs": [
        {
          "output_type": "stream",
          "name": "stdout",
          "text": [
            "<class 'pandas.core.frame.DataFrame'>\n",
            "RangeIndex: 48 entries, 0 to 47\n",
            "Data columns (total 2 columns):\n",
            " #   Column               Non-Null Count  Dtype         \n",
            "---  ------               --------------  -----         \n",
            " 0   date                 48 non-null     datetime64[ns]\n",
            " 1   Soma das categorias  48 non-null     float64       \n",
            "dtypes: datetime64[ns](1), float64(1)\n",
            "memory usage: 896.0 bytes\n"
          ]
        }
      ]
    },
    {
      "cell_type": "code",
      "source": [
        "# Separa os dados em treino e teste\n",
        "train_size = int(len(ts_SumP1) * 0.8)\n",
        "trainset, testset = ts_SumP1[0:train_size], ts_SumP1[train_size:] "
      ],
      "metadata": {
        "id": "Hw1VWMWe206b"
      },
      "execution_count": 232,
      "outputs": []
    },
    {
      "cell_type": "code",
      "source": [
        "# Criando dataframes para dados de treino e teste\n",
        "df_treino = pd.DataFrame({'ds':trainset['date'], 'y':trainset['Soma das categorias']})\n",
        "df_teste = pd.DataFrame({'ds':testset['date'], 'y':testset['Soma das categorias']})"
      ],
      "metadata": {
        "id": "lvziM_RY8p-y"
      },
      "execution_count": 233,
      "outputs": []
    },
    {
      "cell_type": "code",
      "source": [
        "df_teste.info()"
      ],
      "metadata": {
        "colab": {
          "base_uri": "https://localhost:8080/"
        },
        "id": "KdYwaheo_fDq",
        "outputId": "e085cb06-b2bf-46ff-b03f-690869003cb3"
      },
      "execution_count": 234,
      "outputs": [
        {
          "output_type": "stream",
          "name": "stdout",
          "text": [
            "<class 'pandas.core.frame.DataFrame'>\n",
            "RangeIndex: 10 entries, 38 to 47\n",
            "Data columns (total 2 columns):\n",
            " #   Column  Non-Null Count  Dtype         \n",
            "---  ------  --------------  -----         \n",
            " 0   ds      10 non-null     datetime64[ns]\n",
            " 1   y       10 non-null     float64       \n",
            "dtypes: datetime64[ns](1), float64(1)\n",
            "memory usage: 292.0 bytes\n"
          ]
        }
      ]
    },
    {
      "cell_type": "markdown",
      "source": [
        "### Previsão via Meta Prophet Lib (antiga FB-Prophet)"
      ],
      "metadata": {
        "id": "HuE-X6t35gsd"
      }
    },
    {
      "cell_type": "code",
      "source": [
        "#m = Prophet()\n",
        "#m.fit(ts_SumP1)\n",
        "m = Prophet(n_changepoints=1, seasonality_mode = 'multiplicative',interval_width = 0.95, yearly_seasonality = True).fit(df_treino)\n"
      ],
      "metadata": {
        "colab": {
          "base_uri": "https://localhost:8080/"
        },
        "id": "lfrbha4M-sY6",
        "outputId": "1c5857c6-cc6d-4397-8102-d75a7b104a2e"
      },
      "execution_count": 235,
      "outputs": [
        {
          "output_type": "stream",
          "name": "stderr",
          "text": [
            "INFO:fbprophet:Disabling weekly seasonality. Run prophet with weekly_seasonality=True to override this.\n",
            "INFO:fbprophet:Disabling daily seasonality. Run prophet with daily_seasonality=True to override this.\n"
          ]
        }
      ]
    },
    {
      "cell_type": "code",
      "source": [
        "future = m.make_future_dataframe(periods=len(testset) , freq='MS')\n"
      ],
      "metadata": {
        "id": "hnuZLIOZgBWH"
      },
      "execution_count": 236,
      "outputs": []
    },
    {
      "cell_type": "code",
      "source": [
        "forecast = m.predict(future)\n",
        "forecast[['ds', 'yhat', 'yhat_lower', 'yhat_upper']].tail()"
      ],
      "metadata": {
        "colab": {
          "base_uri": "https://localhost:8080/",
          "height": 206
        },
        "id": "7CMHvPIUtI7K",
        "outputId": "b160fe9a-8893-4cc5-b112-3964c299189d"
      },
      "execution_count": 237,
      "outputs": [
        {
          "output_type": "execute_result",
          "data": {
            "text/html": [
              "\n",
              "  <div id=\"df-c03bcbfc-6144-4569-bea2-36fa18720921\">\n",
              "    <div class=\"colab-df-container\">\n",
              "      <div>\n",
              "<style scoped>\n",
              "    .dataframe tbody tr th:only-of-type {\n",
              "        vertical-align: middle;\n",
              "    }\n",
              "\n",
              "    .dataframe tbody tr th {\n",
              "        vertical-align: top;\n",
              "    }\n",
              "\n",
              "    .dataframe thead th {\n",
              "        text-align: right;\n",
              "    }\n",
              "</style>\n",
              "<table border=\"1\" class=\"dataframe\">\n",
              "  <thead>\n",
              "    <tr style=\"text-align: right;\">\n",
              "      <th></th>\n",
              "      <th>ds</th>\n",
              "      <th>yhat</th>\n",
              "      <th>yhat_lower</th>\n",
              "      <th>yhat_upper</th>\n",
              "    </tr>\n",
              "  </thead>\n",
              "  <tbody>\n",
              "    <tr>\n",
              "      <th>43</th>\n",
              "      <td>2020-10-01</td>\n",
              "      <td>69127.337926</td>\n",
              "      <td>64350.584562</td>\n",
              "      <td>73965.752470</td>\n",
              "    </tr>\n",
              "    <tr>\n",
              "      <th>44</th>\n",
              "      <td>2020-11-01</td>\n",
              "      <td>69621.271786</td>\n",
              "      <td>65088.180516</td>\n",
              "      <td>74431.760923</td>\n",
              "    </tr>\n",
              "    <tr>\n",
              "      <th>45</th>\n",
              "      <td>2020-12-01</td>\n",
              "      <td>79221.339006</td>\n",
              "      <td>74947.558453</td>\n",
              "      <td>84271.813724</td>\n",
              "    </tr>\n",
              "    <tr>\n",
              "      <th>46</th>\n",
              "      <td>2021-01-01</td>\n",
              "      <td>75270.512613</td>\n",
              "      <td>70563.435651</td>\n",
              "      <td>79966.214221</td>\n",
              "    </tr>\n",
              "    <tr>\n",
              "      <th>47</th>\n",
              "      <td>2021-02-01</td>\n",
              "      <td>68545.210392</td>\n",
              "      <td>64030.673199</td>\n",
              "      <td>73287.486052</td>\n",
              "    </tr>\n",
              "  </tbody>\n",
              "</table>\n",
              "</div>\n",
              "      <button class=\"colab-df-convert\" onclick=\"convertToInteractive('df-c03bcbfc-6144-4569-bea2-36fa18720921')\"\n",
              "              title=\"Convert this dataframe to an interactive table.\"\n",
              "              style=\"display:none;\">\n",
              "        \n",
              "  <svg xmlns=\"http://www.w3.org/2000/svg\" height=\"24px\"viewBox=\"0 0 24 24\"\n",
              "       width=\"24px\">\n",
              "    <path d=\"M0 0h24v24H0V0z\" fill=\"none\"/>\n",
              "    <path d=\"M18.56 5.44l.94 2.06.94-2.06 2.06-.94-2.06-.94-.94-2.06-.94 2.06-2.06.94zm-11 1L8.5 8.5l.94-2.06 2.06-.94-2.06-.94L8.5 2.5l-.94 2.06-2.06.94zm10 10l.94 2.06.94-2.06 2.06-.94-2.06-.94-.94-2.06-.94 2.06-2.06.94z\"/><path d=\"M17.41 7.96l-1.37-1.37c-.4-.4-.92-.59-1.43-.59-.52 0-1.04.2-1.43.59L10.3 9.45l-7.72 7.72c-.78.78-.78 2.05 0 2.83L4 21.41c.39.39.9.59 1.41.59.51 0 1.02-.2 1.41-.59l7.78-7.78 2.81-2.81c.8-.78.8-2.07 0-2.86zM5.41 20L4 18.59l7.72-7.72 1.47 1.35L5.41 20z\"/>\n",
              "  </svg>\n",
              "      </button>\n",
              "      \n",
              "  <style>\n",
              "    .colab-df-container {\n",
              "      display:flex;\n",
              "      flex-wrap:wrap;\n",
              "      gap: 12px;\n",
              "    }\n",
              "\n",
              "    .colab-df-convert {\n",
              "      background-color: #E8F0FE;\n",
              "      border: none;\n",
              "      border-radius: 50%;\n",
              "      cursor: pointer;\n",
              "      display: none;\n",
              "      fill: #1967D2;\n",
              "      height: 32px;\n",
              "      padding: 0 0 0 0;\n",
              "      width: 32px;\n",
              "    }\n",
              "\n",
              "    .colab-df-convert:hover {\n",
              "      background-color: #E2EBFA;\n",
              "      box-shadow: 0px 1px 2px rgba(60, 64, 67, 0.3), 0px 1px 3px 1px rgba(60, 64, 67, 0.15);\n",
              "      fill: #174EA6;\n",
              "    }\n",
              "\n",
              "    [theme=dark] .colab-df-convert {\n",
              "      background-color: #3B4455;\n",
              "      fill: #D2E3FC;\n",
              "    }\n",
              "\n",
              "    [theme=dark] .colab-df-convert:hover {\n",
              "      background-color: #434B5C;\n",
              "      box-shadow: 0px 1px 3px 1px rgba(0, 0, 0, 0.15);\n",
              "      filter: drop-shadow(0px 1px 2px rgba(0, 0, 0, 0.3));\n",
              "      fill: #FFFFFF;\n",
              "    }\n",
              "  </style>\n",
              "\n",
              "      <script>\n",
              "        const buttonEl =\n",
              "          document.querySelector('#df-c03bcbfc-6144-4569-bea2-36fa18720921 button.colab-df-convert');\n",
              "        buttonEl.style.display =\n",
              "          google.colab.kernel.accessAllowed ? 'block' : 'none';\n",
              "\n",
              "        async function convertToInteractive(key) {\n",
              "          const element = document.querySelector('#df-c03bcbfc-6144-4569-bea2-36fa18720921');\n",
              "          const dataTable =\n",
              "            await google.colab.kernel.invokeFunction('convertToInteractive',\n",
              "                                                     [key], {});\n",
              "          if (!dataTable) return;\n",
              "\n",
              "          const docLinkHtml = 'Like what you see? Visit the ' +\n",
              "            '<a target=\"_blank\" href=https://colab.research.google.com/notebooks/data_table.ipynb>data table notebook</a>'\n",
              "            + ' to learn more about interactive tables.';\n",
              "          element.innerHTML = '';\n",
              "          dataTable['output_type'] = 'display_data';\n",
              "          await google.colab.output.renderOutput(dataTable, element);\n",
              "          const docLink = document.createElement('div');\n",
              "          docLink.innerHTML = docLinkHtml;\n",
              "          element.appendChild(docLink);\n",
              "        }\n",
              "      </script>\n",
              "    </div>\n",
              "  </div>\n",
              "  "
            ],
            "text/plain": [
              "           ds          yhat    yhat_lower    yhat_upper\n",
              "43 2020-10-01  69127.337926  64350.584562  73965.752470\n",
              "44 2020-11-01  69621.271786  65088.180516  74431.760923\n",
              "45 2020-12-01  79221.339006  74947.558453  84271.813724\n",
              "46 2021-01-01  75270.512613  70563.435651  79966.214221\n",
              "47 2021-02-01  68545.210392  64030.673199  73287.486052"
            ]
          },
          "metadata": {},
          "execution_count": 237
        }
      ]
    },
    {
      "cell_type": "code",
      "source": [
        "# Vamos criar um Plot e conferir as previsões\n",
        "\n",
        "# Plot das previsões\n",
        "fig = m.plot(forecast)\n",
        "\n",
        "# Dados de Teste em vermelho\n",
        "plt.plot(df_teste['ds'],df_teste['y'], label = 'Teste', color = 'red', linewidth = 2)\n",
        "plt.show()"
      ],
      "metadata": {
        "colab": {
          "base_uri": "https://localhost:8080/",
          "height": 441
        },
        "id": "UF2VU7JD_B6E",
        "outputId": "20961a90-e57b-4058-8fb6-5b4874b97123"
      },
      "execution_count": 238,
      "outputs": [
        {
          "output_type": "display_data",
          "data": {
            "image/png": "[encoded data removed]",
            "text/plain": [
              "<Figure size 720x432 with 1 Axes>"
            ]
          },
          "metadata": {}
        }
      ]
    },
    {
      "cell_type": "code",
      "source": [
        "fig2 = m.plot_components(forecast)"
      ],
      "metadata": {
        "colab": {
          "base_uri": "https://localhost:8080/",
          "height": 441
        },
        "id": "ahuWK497yA3X",
        "outputId": "fd42c4d2-29ae-447e-c4dc-de88ed82ef17"
      },
      "execution_count": 239,
      "outputs": [
        {
          "output_type": "display_data",
          "data": {
            "image/png": "[encoded data removed]",
            "text/plain": [
              "<Figure size 648x432 with 2 Axes>"
            ]
          },
          "metadata": {}
        }
      ]
    },
    {
      "cell_type": "code",
      "source": [
        "# Calculando a performance \n",
        "prophet_results = performance(df_teste['y'], forecast[38:48]['yhat'])\n",
        "prophet_results"
      ],
      "metadata": {
        "colab": {
          "base_uri": "https://localhost:8080/"
        },
        "id": "FzUEmcuL7qAk",
        "outputId": "e94e8735-cf47-4a0a-c558-60ced3285452"
      },
      "execution_count": 240,
      "outputs": [
        {
          "output_type": "stream",
          "name": "stdout",
          "text": [
            "MSE das previsões é 73529027.97\n",
            "RMSE das previsões é 8574.91\n",
            "MAPE das previsões é 10.82\n"
          ]
        }
      ]
    },
    {
      "cell_type": "code",
      "source": [
        "dataset_para_previsoes = m.make_future_dataframe(periods = 48, freq = 'MS')\n",
        "dataset_para_previsoes.count()"
      ],
      "metadata": {
        "colab": {
          "base_uri": "https://localhost:8080/"
        },
        "id": "UOB_1RIj10ad",
        "outputId": "53224d65-ae13-43b3-9239-4c4075efccce"
      },
      "execution_count": 241,
      "outputs": [
        {
          "output_type": "execute_result",
          "data": {
            "text/plain": [
              "ds    86\n",
              "dtype: int64"
            ]
          },
          "metadata": {},
          "execution_count": 241
        }
      ]
    },
    {
      "cell_type": "code",
      "source": [
        "# Forecast\n",
        "forecast_modelo_prophet = m.predict(dataset_para_previsoes)"
      ],
      "metadata": {
        "id": "uQn7CwWUENX7"
      },
      "execution_count": 242,
      "outputs": []
    },
    {
      "cell_type": "code",
      "source": [
        "# Vamos criar um Plot e conferir as previsões\n",
        "\n",
        "# Plot das previsões\n",
        "fig = m.plot(forecast_modelo_prophet)\n",
        "\n",
        "# Dados de Teste em vermelho\n",
        "plt.plot(df_teste['ds'],df_teste['y'], label = 'Teste', color = 'red', linewidth = 2)\n",
        "plt.show()"
      ],
      "metadata": {
        "colab": {
          "base_uri": "https://localhost:8080/",
          "height": 441
        },
        "id": "S2bXxClzEVWQ",
        "outputId": "823a480b-5134-41a5-d490-62721cd842f6"
      },
      "execution_count": 243,
      "outputs": [
        {
          "output_type": "display_data",
          "data": {
            "image/png": "[encoded data removed]",
            "text/plain": [
              "<Figure size 720x432 with 1 Axes>"
            ]
          },
          "metadata": {}
        }
      ]
    },
    {
      "cell_type": "code",
      "source": [
        "filename = \"prophet_out_\" + p + \".xlsx\"\n",
        "output = pd.DataFrame(forecast_modelo_prophet[['ds', 'yhat', 'yhat_lower', 'yhat_upper']])\n",
        "input = (ts_SumP1)\n",
        "input.rename(columns={\"date\":\"ds\"}, inplace=True)\n",
        "output = pd.merge(output, input, on=[\"ds\"], how=\"outer\")\n",
        "output.to_excel(filename,\n",
        "             sheet_name=p) \n",
        "\n",
        "print(\"Resultados da previsão gravados no arquivo:\" + filename)"
      ],
      "metadata": {
        "colab": {
          "base_uri": "https://localhost:8080/"
        },
        "id": "i7p69ogV97Ho",
        "outputId": "39749dba-6610-4785-b971-880c259dd3c5"
      },
      "execution_count": 244,
      "outputs": [
        {
          "output_type": "stream",
          "name": "stdout",
          "text": [
            "Resultados da previsão gravados no arquivo:prophet_out_P11.xlsx\n"
          ]
        }
      ]
    }
  ]
}